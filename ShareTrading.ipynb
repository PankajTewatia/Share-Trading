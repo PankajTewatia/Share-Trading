{
 "cells": [
  {
   "cell_type": "code",
   "execution_count": 1,
   "metadata": {},
   "outputs": [],
   "source": [
    "def MaxProfit(price, k):\n",
    "    n = len(price)\n",
    "    # base case\n",
    "    if n <= 1:\n",
    "        return 0\n",
    "\n",
    "    # Profit[i][j] stores the maximum profit gained by doing atmost i transactions till j'th\n",
    "    profit = [[0 for x in range(n)] for y in range(k + 1)]\n",
    "\n",
    "    for i in range(k + 1):\n",
    "        for j in range(n):\n",
    "            if i == 0 or j == 0:\n",
    "                profit[i][j] = 0\n",
    "            else:\n",
    "                max_so_far = 0\n",
    "                for x in range(j):\n",
    "                    curr_price = price[j] - price[x] + profit[i - 1][x]\n",
    "                    if max_so_far < curr_price:\n",
    "                        max_so_far = curr_price\n",
    "                profit[i][j] = max(profit[i][j - 1], max_so_far)\n",
    "\n",
    "    return profit[k][n - 1]"
   ]
  },
  {
   "cell_type": "code",
   "execution_count": 3,
   "metadata": {},
   "outputs": [
    {
     "name": "stdout",
     "output_type": "stream",
     "text": [
      "*************************************************************************\n",
      "\t\t\tMaximum Profit Calculator\n",
      "\n",
      "*************************************************************************\n",
      "Enter the size of list: 6\n",
      "Enter the prices\n",
      "\n",
      "10\n",
      "22\n",
      "5\n",
      "25\n",
      "65\n",
      "80\n",
      "pricelist:[10, 22, 5, 25, 65, 80] \n",
      "Enter the maximum number of transaction: 2\n",
      "The maximum possible profit is 87\n"
     ]
    }
   ],
   "source": [
    "print(\"*************************************************************************\")\n",
    "print(\"\\t\\t\\tMaximum Profit Calculator\\n\")\n",
    "print(\"*************************************************************************\")\n",
    "#Getting empty list to store prices of the shares\n",
    "price = []\n",
    "# Asking for the size of price list\n",
    "size=int(input(\"Enter the size of list: \"))\n",
    "print(\"Enter the prices\\n\")\n",
    "for i in range(0,size):\n",
    "    # Getting prices\n",
    "    p=int(input())\n",
    "    # Appending prices\n",
    "    price.append(p)\n",
    "print(f\"pricelist:{price} \")\n",
    "# Asking for maximum number of transactions\n",
    "k = int(input(\"Enter the maximum number of transaction: \"))\n",
    "if k<len(price):\n",
    "# Calling function\n",
    "    print('The maximum possible profit is', MaxProfit(price, k))\n",
    "# Case when k>length of price list\n",
    "else:\n",
    "    print(\"Not possible to earn.\")"
   ]
  },
  {
   "cell_type": "code",
   "execution_count": null,
   "metadata": {},
   "outputs": [],
   "source": []
  }
 ],
 "metadata": {
  "kernelspec": {
   "display_name": "Python 3",
   "language": "python",
   "name": "python3"
  },
  "language_info": {
   "codemirror_mode": {
    "name": "ipython",
    "version": 3
   },
   "file_extension": ".py",
   "mimetype": "text/x-python",
   "name": "python",
   "nbconvert_exporter": "python",
   "pygments_lexer": "ipython3",
   "version": "3.8.3"
  }
 },
 "nbformat": 4,
 "nbformat_minor": 4
}
